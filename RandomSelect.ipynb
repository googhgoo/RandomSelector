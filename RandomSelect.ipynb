{
 "cells": [
  {
   "cell_type": "code",
   "execution_count": null,
   "id": "aba0b07d-1795-47bd-800c-8ca120621ae4",
   "metadata": {},
   "outputs": [],
   "source": [
    "Students = ['김대영','김소원','김주성','김태형','문경훈','장진욱']\n",
    "\n",
    "import random\n",
    "\n",
    "random.shuffle(Students)\n",
    "\n",
    "print(Students)"
   ]
  }
 ],
 "metadata": {
  "kernelspec": {
   "display_name": "Python 3 (ipykernel)",
   "language": "python",
   "name": "python3"
  },
  "language_info": {
   "codemirror_mode": {
    "name": "ipython",
    "version": 3
   },
   "file_extension": ".py",
   "mimetype": "text/x-python",
   "name": "python",
   "nbconvert_exporter": "python",
   "pygments_lexer": "ipython3",
   "version": "3.11.6"
  }
 },
 "nbformat": 4,
 "nbformat_minor": 5
}
